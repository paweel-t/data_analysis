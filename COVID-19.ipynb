{
 "cells": [
  {
   "cell_type": "code",
   "execution_count": 1,
   "metadata": {},
   "outputs": [],
   "source": [
    "CONFIRMED = 'https://raw.githubusercontent.com/CSSEGISandData/COVID-19/master/csse_covid_19_data/csse_covid_19_time_series/time_series_covid19_confirmed_global.csv'\n",
    "DEATHS = 'https://raw.githubusercontent.com/CSSEGISandData/COVID-19/master/csse_covid_19_data/csse_covid_19_time_series/time_series_covid19_deaths_global.csv'\n",
    "RECOVERED = 'https://raw.githubusercontent.com/CSSEGISandData/COVID-19/master/csse_covid_19_data/csse_covid_19_time_series/time_series_covid19_recovered_global.csv'"
   ]
  },
  {
   "cell_type": "code",
   "execution_count": 2,
   "metadata": {},
   "outputs": [],
   "source": [
    "import pandas as pd\n",
    "from doctest import testmod"
   ]
  },
  {
   "cell_type": "code",
   "execution_count": 3,
   "metadata": {},
   "outputs": [],
   "source": [
    "confirmed = pd.read_csv(CONFIRMED)\n",
    "deaths = pd.read_csv(DEATHS)\n",
    "recovered = pd.read_csv(RECOVERED)"
   ]
  },
  {
   "cell_type": "code",
   "execution_count": 7,
   "metadata": {},
   "outputs": [
    {
     "name": "stdout",
     "output_type": "stream",
     "text": [
      "**********************************************************************\n",
      "File \"__main__\", line 15, in __main__.get\n",
      "Failed example:\n",
      "    row = poland.loc['2020-10-13']\n",
      "Exception raised:\n",
      "    Traceback (most recent call last):\n",
      "      File \"D:\\Anaconda3\\lib\\doctest.py\", line 1329, in __run\n",
      "        compileflags, 1), test.globs)\n",
      "      File \"<doctest __main__.get[1]>\", line 1, in <module>\n",
      "        row = poland.loc['2020-10-13']\n",
      "    NameError: name 'poland' is not defined\n",
      "**********************************************************************\n",
      "File \"__main__\", line 16, in __main__.get\n",
      "Failed example:\n",
      "    row['Confirmed'], row['Recovered'], row['Deaths']\n",
      "Exception raised:\n",
      "    Traceback (most recent call last):\n",
      "      File \"D:\\Anaconda3\\lib\\doctest.py\", line 1329, in __run\n",
      "        compileflags, 1), test.globs)\n",
      "      File \"<doctest __main__.get[2]>\", line 1, in <module>\n",
      "        row['Confirmed'], row['Recovered'], row['Deaths']\n",
      "    NameError: name 'row' is not defined\n",
      "**********************************************************************\n",
      "1 items had failures:\n",
      "   2 of   3 in __main__.get\n",
      "***Test Failed*** 2 failures.\n"
     ]
    },
    {
     "data": {
      "text/plain": [
       "TestResults(failed=2, attempted=3)"
      ]
     },
     "execution_count": 7,
     "metadata": {},
     "output_type": "execute_result"
    }
   ],
   "source": [
    "def _get(country, name, data):\n",
    "    df = (data\n",
    "            .loc[data['Country/Region'] == country]\n",
    "            .transpose()[4:]\n",
    "        )\n",
    "\n",
    "    df.columns = [name]\n",
    "    df.index = pd.to_datetime(df.index)\n",
    "    \n",
    "    return df\n",
    "  \n",
    "def get(country):\n",
    "    \"\"\"\n",
    "    >>> pl = get('Poland')\n",
    "    >>> row = poland.loc['2020-10-13']\n",
    "    >>> row['Confirmed'], row['Recovered'], row['Deaths']\n",
    "    (135278, 82004, 3101)\n",
    "\n",
    "    \n",
    "    \"\"\"\n",
    "    c = _get(country, 'Confirmed', confirmed)\n",
    "    d = _get(country, 'Deaths', deaths)\n",
    "    r = _get(country, 'Recovered', recovered)\n",
    "    return pd.concat((\n",
    "        _get(country, 'Confirmed', confirmed),\n",
    "        _get(country, 'Deaths', deaths),\n",
    "        _get(country, 'Recovered', recovered)\n",
    "    ), axis = 'columns')\n",
    "\n",
    "testmod()"
   ]
  },
  {
   "cell_type": "code",
   "execution_count": 37,
   "metadata": {},
   "outputs": [],
   "source": [
    "poland = get('Poland')"
   ]
  },
  {
   "cell_type": "code",
   "execution_count": 33,
   "metadata": {},
   "outputs": [
    {
     "data": {
      "text/plain": [
       "<matplotlib.axes._subplots.AxesSubplot at 0x1ca10d9de80>"
      ]
     },
     "execution_count": 33,
     "metadata": {},
     "output_type": "execute_result"
    },
    {
     "data": {
      "image/png": "[encoded data removed]",
      "text/plain": [
       "<Figure size 432x288 with 1 Axes>"
      ]
     },
     "metadata": {
      "needs_background": "light"
     },
     "output_type": "display_data"
    }
   ],
   "source": [
    "us_confirmed = get('US', 'Confirmed', confirmed)\n",
    "us_deaths = get('US', 'Deaths', deaths)\n",
    "us_recovered = get('US', 'Confirmed', recovered)\n",
    "\n",
    "us = pd.concat((us_confirmed, us_deaths, us_recovered), axis = 'columns')\n",
    "us.plot()"
   ]
  },
  {
   "cell_type": "code",
   "execution_count": 6,
   "metadata": {},
   "outputs": [
    {
     "data": {
      "text/plain": [
       "TestResults(failed=0, attempted=3)"
      ]
     },
     "execution_count": 6,
     "metadata": {},
     "output_type": "execute_result"
    }
   ],
   "source": [
    "def _get(country, name, data):\n",
    "    if country:\n",
    "        query = data['Country/Region'] == country\n",
    "        data = data.loc[query]\n",
    "        \n",
    "    data = (data\n",
    "          .transpose()[4:]\n",
    "          .sum(axis='columns')\n",
    "          .map(int))\n",
    "    \n",
    "    return pd.DataFrame(\n",
    "        data = data,\n",
    "        columns = [name],\n",
    "        index = pd.to_datetime(data.index))\n",
    "\n",
    "\n",
    "def get(country=None):\n",
    "    \"\"\"\n",
    "    >>> pl = get('Poland')\n",
    "    >>> pl = pl.loc['2020-10-13']\n",
    "    >>> pl['Confirmed'], pl['Recovered'], pl['Deaths']\n",
    "    (135278, 82004, 3101)\n",
    "    \"\"\"\n",
    "    return pd.concat((\n",
    "        _get(country, 'Confirmed', confirmed),\n",
    "        _get(country, 'Deaths', deaths),\n",
    "        _get(country, 'Recovered', recovered)\n",
    "    ), axis='columns')\n",
    "\n",
    "testmod()"
   ]
  },
  {
   "cell_type": "code",
   "execution_count": null,
   "metadata": {},
   "outputs": [],
   "source": [
    "poland = get('Poland')\n",
    "us = get('US')\n",
    "india = get('India')\n",
    "brazil = get('Brazil')\n",
    "china = get('China')\n",
    "france = get('France')\n",
    "world = get()"
   ]
  }
 ],
 "metadata": {
  "kernelspec": {
   "display_name": "Python 3",
   "language": "python",
   "name": "python3"
  },
  "language_info": {
   "codemirror_mode": {
    "name": "ipython",
    "version": 3
   },
   "file_extension": ".py",
   "mimetype": "text/x-python",
   "name": "python",
   "nbconvert_exporter": "python",
   "pygments_lexer": "ipython3",
   "version": "3.7.3"
  },
  "varInspector": {
   "cols": {
    "lenName": 16,
    "lenType": 16,
    "lenVar": 40
   },
   "kernels_config": {
    "python": {
     "delete_cmd_postfix": "",
     "delete_cmd_prefix": "del ",
     "library": "var_list.py",
     "varRefreshCmd": "print(var_dic_list())"
    },
    "r": {
     "delete_cmd_postfix": ") ",
     "delete_cmd_prefix": "rm(",
     "library": "var_list.r",
     "varRefreshCmd": "cat(var_dic_list()) "
    }
   },
   "types_to_exclude": [
    "module",
    "function",
    "builtin_function_or_method",
    "instance",
    "_Feature"
   ],
   "window_display": false
  }
 },
 "nbformat": 4,
 "nbformat_minor": 4
}
